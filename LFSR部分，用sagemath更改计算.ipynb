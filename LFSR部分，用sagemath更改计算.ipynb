{
 "cells": [
  {
   "cell_type": "code",
   "execution_count": 1,
   "metadata": {},
   "outputs": [],
   "source": [
    "import numpy as np\n",
    "import random\n",
    "from sympy import Matrix"
   ]
  },
  {
   "cell_type": "code",
   "execution_count": 2,
   "metadata": {},
   "outputs": [],
   "source": [
    "def found_row(M):\n",
    "# 将列表M中的元素依次赋给row,M活动行和非活动行的变化\n",
    "    for row in M:\n",
    "        a = sub_count(M)\n",
    "        active_list = [0] * (a - 1) + [1]\n",
    "        if row == active_list:      # 如果这一行为 0 0 ...1,则进行变换\n",
    "            loc = M.index(row)      # 活动行所在的位置下标索引\n",
    "            M[loc] = [0] * (a) + [1]  # 将M的活动行替换拓展变0加1\n",
    "\n",
    "        else:                       # 这一行为非活动行\n",
    "           #  loc = M.index(row)     # 非活动行所在的位置下标索引\n",
    "             ran_num = random.choice((0, 1))  # 随机生成0或1\n",
    "             row.append(ran_num)      # 将M非活动行,随机追加0或1\n",
    "\n",
    "    g[element] = g[element] + 1\n",
    "    #print(g)\n",
    "    return M\n",
    "\n",
    "# 子循环内元素个数\n",
    "def sub_count(M):\n",
    "    number = 0\n",
    "    for sublist in M:\n",
    "        number += len(sublist)\n",
    "    return int(number/len(M))\n",
    "\n",
    "def prim_poly(length):\n",
    "    F = GF(2^length)\n",
    "    ##R.<x> = PolynomialRing(F)\n",
    "    alpha = F.primitive_element()\n",
    "    poly = alpha.minimal_polynomial()\n",
    "    ##poly = R(coeffs)\n",
    "    ##print(coeffs)\n",
    "    #print(poly)\n",
    "\n",
    "    return list(poly)\n",
    "\n",
    "\n",
    "def compain_(M):\n",
    "    length = sub_count(M)\n",
    "    unit_array = np.diag([1] * (length-1))\n",
    "    all_zero = np.zeros((1, (length-1)))  # 构造一个全0行\n",
    "    matrix_b = np.r_[all_zero, unit_array]  # 将这个全0行与单位阵合并\n",
    "    # 接下来将prim_poly的系数置于列\n",
    "    n_element = prim_poly(length)[:length]  # 取出前n项\n",
    "    # 将行转变为列,这里列表对象没有T属性，需要利用zip函数\n",
    "    companion_matrix = np.c_[matrix_b, list(zip(n_element))]  # 添加本原多项式的系数列\n",
    "\n",
    "    return companion_matrix.astype(int)\n",
    "\n",
    "\n",
    "# 将数组遍历为列表 否则无法进行变换\n",
    "def list_M(arr):  \n",
    "    lst = [[elem for elem in sublst] for sublst in arr]    \n",
    "    return lst\n",
    "\n",
    "\n",
    "def change_M(x, y):  # 构造构造多项式f所需的矩阵Mc\n",
    "    H = matrix(GF(2),y)\n",
    "    Mc = H\n",
    "    # H = []\n",
    "    sub = sub_count(M)\n",
    "    for i in range(1, sub):\n",
    "         H = H.stack(Mc *(x**i))\n",
    "    #    H.append((y @ (np.linalg.matrix_power(x, i))) % 2)\n",
    "    #print(H)\n",
    "    #print(\"*********\")\n",
    "\n",
    "    return H\n",
    "\n",
    "\n",
    "# 计算fa\n",
    "def compute_FA(f,A):\n",
    "    u = 0\n",
    "    for index, element in enumerate(f):                          \n",
    "        u += ((np.linalg.matrix_power(A, index)) * element)             \n",
    "    return u % 2  \n",
    "\n",
    "\n",
    "def bianhuan_M(M):\n",
    "    if g != r:\n",
    "        A = compain_(M)\n",
    "        x = matrix(GF(2),A)\n",
    "        y = M\n",
    "        active_list = vector([0] * (sub_count(M) - 1) + [1])\n",
    "        k = change_M(x, y[element])                             # 构造构造多项式f所需的矩阵Mc\n",
    "        P = matrix(GF(2),k)\n",
    "        a = list(P.solve_left(active_list))\n",
    "        R = GF(2)['x']                                # 创建GF(2)上的多项式环\n",
    "        f = R(list(a))\n",
    "        M = matrix(GF(2),M) * f((matrix(GF(2),A)))\n",
    "\n",
    "        return found_row(list_M(M))\n",
    "    else:\n",
    "        return M\n",
    "    \n",
    "    \n",
    "def bianli_num(x, y):\n",
    "    number = sum(y) - sum(x)\n",
    "    return number\n"
   ]
  },
  {
   "cell_type": "code",
   "execution_count": 3,
   "metadata": {
    "scrolled": false
   },
   "outputs": [
    {
     "name": "stdout",
     "output_type": "stream",
     "text": [
      "[0 0 0 0 0 0 0 0 0 0 0 0 0 0 0 0 0 0 0 0 0 0 0 0 0 0 0 0 0 0 0 0 0 0 0 0 0 0 0 0 0 0 0 0 0 0 0 0 0 0 0 0 0 0 0 0 0 0 0 0 0 0 0 0 0 0 0 0 0 0 0 0 0 0 0 0 0 0 0 0 0 0 0 0 0 0 0 0 0 0 0 0 0 0 0 0 0 0 0 0 0 0 0 0 0 0 0 0 0 0 0 0 0 0 0 0 0 0 0 0 0 0 0 0 0 0 0 0 0 0 0 0 0 0 0 0 0 0 0 0 0 0 0 0 0 0 0 0 0 0 0 0 0 0 0 0 0 0 0 0 0 0 0 0 0 0 0 0 0 0 0 0 0 0 0 0 0 0 0 0 0 0 0 0 0 0 0 0 0 0 0 0 0 0 0 0 0 0 0 0 0 0 0 0 0 0 0 0 0 0 0 0 0 0 0 0 0 0 0 0 0 0 0 0 0 0 0 0 0 0 0 0 0 0 0 0 0 0 0 0 0 0 0 0 0 0 0 0 0 0 0 0 0 0 0 1]\n",
      "[0 1 1 0 1 0 0 1 0 1 1 1 1 0 1 0 1 0 0 1 1 0 0 0 1 1 1 0 0 1 1 0 0 1 0 1 1 1 1 0 0 1 1 0 1 0 1 0 0 1 0 0 0 0 1 1 0 0 0 1 0 1 0 1 0 0 0 0 1 1 0 1 0 0 1 0 1 1 1 0 1 1 1 0 0 1 1 1 1 1 1 0 0 0 0 0 0 0 1 0 0 1 0 0 1 1 1 0 0 0 1 1 1 1 0 1 0 1 0 1 1 1 0 0 0 1 0 0 1 0 1 1 0 0 1 1 1 0 0 1 0 0 0 0 1 0 0 1 0 0 0 0 0 1 0 0 1 0 0 0 0 1 0 0 0 0 1 0 0 0 1 0 0 1 1 0 1 1 1 1 0 1 0 1 0 1 1 1 1 0 1 0 1 0 0 0 1 0 0 0 1 1 0 0 1 1 1 1 1 1 0 0 1 0 0 1 1 1 0 0 1 0 1 1 1 1 0 1 0 0 0 0 1 1 1 0 1 0 0 0 0 0 0 1 0 1 1 0 0 1 0 0 0 0 1 1]\n",
      "[0 0 0 1 0 1 1 1 1 0 1 0 1 0 0 1 1 1 1 0 1 0 1 1 1 1 0 1 1 0 0 0 1 1 0 0 1 0 0 1 0 1 0 1 1 0 1 1 0 0 1 1 0 0 1 1 1 1 0 1 1 0 1 1 1 0 1 1 1 1 0 1 1 0 0 1 0 0 1 0 0 0 1 0 1 1 0 0 0 0 0 1 1 1 0 0 1 1 0 1 1 0 1 0 0 0 1 1 1 0 1 1 1 0 1 1 1 1 0 0 0 0 0 0 1 1 0 1 1 1 1 0 0 0 1 0 0 0 1 1 0 0 0 0 0 0 0 1 1 1 0 0 1 0 1 1 1 1 0 1 0 1 0 0 0 1 0 0 1 1 0 0 0 0 0 1 1 0 1 1 0 0 0 1 0 1 0 0 0 1 0 0 0 1 1 1 0 0 1 0 0 0 1 1 0 0 0 0 1 1 0 0 1 1 0 0 0 1 1 1 1 0 0 1 0 0 0 0 0 0 1 0 1 0 1 0 1 1 0 0 1 1 1 1 1 0 0 1 1 1 0 1 1 0 1 1]\n",
      "[1 0 0 1 0 1 0 1 1 0 1 1 0 1 0 0 1 0 0 0 1 1 1 0 0 0 1 0 1 1 0 0 1 0 1 0 1 0 0 0 0 1 1 0 0 0 1 1 1 1 1 0 0 0 1 1 1 1 1 0 0 1 0 0 1 1 1 0 1 0 1 1 1 0 0 1 1 0 0 1 1 1 1 0 0 0 1 0 1 1 1 0 0 0 0 1 1 0 0 1 0 0 0 1 0 1 1 1 0 1 0 0 1 1 0 1 1 0 1 0 1 0 1 1 1 1 0 0 0 0 0 1 1 1 0 0 1 0 0 1 1 1 1 0 0 1 0 1 1 0 0 0 1 1 1 0 1 0 1 0 1 0 0 0 1 1 1 1 1 0 1 0 0 0 1 0 0 1 1 0 0 1 1 1 1 0 1 0 0 0 0 1 1 0 0 0 0 1 0 1 1 1 1 1 0 0 1 1 0 1 0 0 0 0 0 1 1 1 1 1 1 1 0 0 0 0 1 0 1 0 1 1 0 0 0 1 0 0 0 0 0 1 0 0 0 0 1 0 1 0 1 1 1 1 0 1]\n",
      "[0 1 1 0 0 0 0 0 1 1 1 0 1 1 1 1 0 1 0 1 0 0 0 0 1 0 0 0 0 0 1 0 1 1 0 0 0 1 0 0 0 0 1 0 0 1 0 0 0 0 1 0 1 0 0 1 1 0 0 1 0 0 1 1 1 0 1 0 0 1 1 1 1 0 0 1 0 1 0 1 0 0 1 1 0 0 1 1 1 0 0 0 0 0 0 1 0 1 1 0 0 0 1 1 1 0 1 1 1 0 0 1 0 1 0 1 1 1 0 1 1 1 1 1 0 1 1 1 1 1 1 1 0 1 0 0 1 1 1 0 1 1 1 1 1 1 1 0 0 1 1 0 0 0 0 0 1 0 0 0 1 1 0 1 0 1 1 1 1 1 0 1 0 0 1 1 0 1 1 1 1 0 0 1 0 0 0 1 1 0 1 0 0 1 1 1 1 0 0 0 1 0 0 0 0 1 0 0 1 0 1 0 0 1 1 1 0 1 0 1 1 0 1 1 1 0 1 1 1 1 1 0 0 0 0 1 0 1 1 1 1 0 1 0 1 1 1 1 1 0 0 0 0 1 1 1]\n",
      "[0 0 1 0 1 1 0 0 0 0 0 0 1 0 0 1 1 1 1 1 1 1 1 0 0 1 1 1 1 1 0 0 0 1 1 0 1 1 0 0 0 0 1 1 0 1 1 0 0 1 0 1 0 1 0 0 0 0 0 0 0 0 0 0 0 1 0 1 1 1 0 1 1 0 0 1 1 0 1 0 1 0 0 1 0 0 0 1 0 0 1 0 1 0 1 1 1 0 1 1 1 1 0 1 1 1 1 1 0 0 1 1 0 0 0 0 0 1 1 1 0 0 1 1 0 1 1 1 1 0 1 0 0 1 0 1 0 0 0 1 1 1 0 0 1 0 0 1 0 1 0 1 1 1 0 0 1 1 1 0 0 1 0 1 0 1 0 1 0 1 1 0 1 0 0 1 1 1 1 0 1 1 0 1 0 1 0 0 1 0 1 0 0 1 0 0 1 1 1 1 1 0 0 1 0 0 1 1 0 1 1 1 0 1 0 0 0 0 1 0 0 1 1 1 0 1 1 0 1 1 0 1 1 1 0 0 1 0 0 1 1 0 1 1 0 0 1 0 0 0 0 0 1 0 0 0]\n",
      "[0 0 0 0 1 0 0 1 1 0 1 1 0 1 1 0 0 0 1 1 1 0 1 0 0 1 1 0 0 0 0 0 0 0 0 1 0 1 0 1 1 1 1 0 1 0 1 1 1 0 0 0 0 1 0 1 0 1 1 0 1 0 0 0 1 0 1 0 1 0 0 0 0 0 1 0 0 1 1 1 1 0 0 0 0 0 0 0 0 1 1 0 0 1 1 0 0 0 1 0 0 0 1 1 1 0 0 0 0 0 1 0 0 0 0 1 1 0 1 0 1 1 0 0 1 1 0 1 1 1 0 1 1 1 1 0 0 0 1 0 0 1 1 0 0 0 0 1 0 0 1 1 0 0 1 0 0 0 1 1 0 1 1 0 0 0 0 0 0 1 1 1 1 1 0 0 0 0 0 0 0 1 0 0 0 0 1 1 0 0 1 0 0 0 1 0 1 1 1 1 1 1 1 1 0 1 1 1 0 0 1 1 0 1 0 1 1 0 0 0 0 0 1 0 1 1 1 0 0 0 0 1 1 1 0 1 0 1 0 0 0 1 0 1 0 0 1 1 0 0 0 0 1 1 1 0]\n",
      "[0 1 0 1 1 1 1 1 1 1 0 0 1 1 1 0 1 0 0 0 0 0 1 1 1 1 0 1 0 0 0 0 1 0 1 1 1 0 0 0 0 0 1 1 0 1 1 0 0 1 1 0 1 0 0 0 1 0 0 0 0 0 0 0 1 1 1 0 1 1 0 0 1 0 0 0 1 0 0 0 1 1 0 1 0 0 1 1 0 1 0 1 0 0 0 0 0 1 1 0 0 1 1 0 0 0 0 1 0 1 0 1 0 0 0 0 0 0 0 1 0 0 1 1 0 1 0 1 0 1 0 0 1 1 1 0 0 1 0 1 1 1 1 1 1 1 0 1 0 0 0 0 0 0 0 1 1 0 1 0 0 0 0 0 1 0 1 0 0 1 0 0 0 0 0 0 1 0 1 0 0 0 0 1 0 1 1 0 0 0 0 0 1 1 1 0 1 1 0 1 1 1 0 1 0 0 1 0 1 0 1 1 1 0 0 0 1 1 0 1 1 1 0 1 1 1 1 0 1 1 1 0 0 1 1 0 0 0 1 0 0 1 0 0 0 1 0 0 0 0 0 0 0 0 0 0]\n",
      "32\n",
      "[[0 0 0 ... 0 0 0]\n",
      " [0 0 0 ... 0 0 0]\n",
      " [0 0 0 ... 0 0 0]\n",
      " ...\n",
      " [1 1 1 ... 1 1 1]\n",
      " [1 1 1 ... 1 0 0]\n",
      " [0 1 0 ... 1 0 0]]\n"
     ]
    }
   ],
   "source": [
    "\n",
    "g = [1, 1, 1, 1, 1, 1, 1, 1]\n",
    "r = [32, 32, 32, 32, 32, 32, 32, 32, 32]\n",
    "M = [[1, 1, 1, 1, 1, 1, 1, 1], [0, 1, 1, 1, 1, 1, 1, 1], [0, 0, 1, 1, 1, 1, 1, 1], [0, 0, 0, 1, 1, 1, 1, 1],\n",
    "     [0, 0, 0, 0, 1, 1, 1, 1], [0, 0, 0, 0, 0, 1, 1, 1], [0, 0, 0, 0, 0, 0, 1, 1], [0, 0, 0, 0, 0, 0, 0, 1]]\n",
    "for i in range(bianli_num(g, r)):                        # 寻址\n",
    "\n",
    "    for element in range(len(g) - 1, -1, -1):  # cor为索引坐标，element为该位置对应的值\n",
    "        if (g[element] == max(g) - 1) and (g[element] < r[element]):\n",
    "            active_list = [0] * (sub_count(M) - 1) + [1]\n",
    "            if M[element] == active_list:\n",
    "                found_row(M)\n",
    "            else: M = bianhuan_M(M)\n",
    "\n",
    "            continue\n",
    "        elif (g[element] == max(g)) and (g[element] < r[element]):\n",
    "            # print(f\"G={G},Therefore, the active coordinate of G is the {element + 1} coordinate行\")\n",
    "            active_list = [0] * (sub_count(M) - 1) + [1]\n",
    "            if M[element] == active_list:\n",
    "                found_row(M)\n",
    "            else:\n",
    "                M = bianhuan_M(M)\n",
    "            continue\n",
    "\n",
    "Mx = matrix(GF(2),M)\n",
    "print(Mx)\n",
    "print(int((sub_count(M)/len(M))))\n",
    "Mw = Mx\n",
    "for i in range(1,int((sub_count(M)/len(M)))):\n",
    "    Mx = Mx.stack(Mw *(matrix(GF(2),compain_(M))**i))\n",
    "   # Mx = np.r_[Mx, list_M((M @ np.linalg.matrix_power(compain_(M), i+1)) % 2)]\n",
    "    # print(Mx)\n",
    "#print(Mx)\n",
    "mx = Mx.inverse()\n",
    "# print(Mx)\n",
    "A33 = Mx @ compain_(M) @ mx\n",
    "print(A33)"
   ]
  },
  {
   "cell_type": "code",
   "execution_count": 8,
   "metadata": {
    "scrolled": false
   },
   "outputs": [
    {
     "name": "stdout",
     "output_type": "stream",
     "text": [
      "Running time: 6.785261699995317 Seconds\n"
     ]
    }
   ],
   "source": [
    "import time\n",
    "\n",
    "start = time.perf_counter()\n",
    "# 生成一个 256 阶的 01 矩阵\n",
    "# matrix = np.random.randint(0, 2, (256, 256))           # 这里到时候替换成为拓展矩阵  是256阶的\n",
    "last_eight_rows = A33[-8:, :]\n",
    "register = [random.randint(0, 1) for _ in range(256)]   # 寄存器初始状态256位\n",
    "for i in range(1000):\n",
    "    # 将这 8 行分成 32 个 8 阶矩阵，并用 B0...B31 表示这些矩阵\n",
    "    B0, B1, B2, B3, B4, B5, B6, B7, B8, \\\n",
    "     B9, B10, B11, B12, B13, B14, B15, B16,\\\n",
    "     B17, B18, B19, B20, B21, B22, B23, B24,\\\n",
    "     B25, B26, B27, B28, B29, B30, B31 = last_eight_rows.reshape((32, 8, 8))\n",
    "\n",
    "\n",
    "    W1, W2, W3, W4, W5, W6, W7, W8, \\\n",
    "     W9, W10, W11, W12, W13, W14, W15, W16,\\\n",
    "     W17, W18, W19, W20, W21, W22, W23, W24,\\\n",
    "     W25, W26, W27, W28, W29, W30, W31, W32 = [register[i:i+8] for i in range(0, 256, 8)]\n",
    "\n",
    "    B = [B0, B1, B2, B3, B4, B5, B6, B7, B8, B9, B10, B11, B12, B13, B14, B15, B16,\n",
    "         B17, B18, B19, B20, B21, B22, B23, B24,B25, B26, B27, B28, B29, B30, B31]\n",
    "\n",
    "    W = [W1, W2, W3, W4, W5, W6, W7, W8, W9, W10, W11, W12, W13, W14, W15, W16,\n",
    "         W17, W18, W19, W20, W21, W22, W23, W24, W25, W26, W27, W28, W29, W30, W31, W32]\n",
    "\n",
    "    lfsr = []\n",
    "    for i in range(32):\n",
    "        lfsr.append((np.dot(B[i], np.array(W[i]).T) % 2))\n",
    "    #print(\"lfsr:\")\n",
    "    #print(lfsr)\n",
    "\n",
    "    new_bit = lfsr[0] ^ lfsr[1] ^ lfsr[2] ^ lfsr[3] ^ lfsr[4] ^ lfsr[5] ^ lfsr[6] ^ lfsr[7] ^\\\n",
    "              lfsr[8] ^ lfsr[9] ^ lfsr[10] ^ lfsr[11] ^ lfsr[12] ^ lfsr[13] ^ lfsr[14] ^ lfsr[15] ^\\\n",
    "              lfsr[16] ^ lfsr[17] ^ lfsr[18] ^ lfsr[19] ^ lfsr[20] ^ lfsr[21] ^ lfsr[22] ^ lfsr[23] ^\\\n",
    "              lfsr[24] ^ lfsr[25] ^ lfsr[26] ^ lfsr[27] ^ lfsr[28] ^ lfsr[29] ^ lfsr[30] ^ lfsr[31]     # 反馈多项式生成\n",
    "    new_bit = [x for x in new_bit]           # 好像这里并不是每一轮都要遍历，可以等到最后一轮再操作\n",
    "    \"\"\"\n",
    "    del register[:8]                         # 状态左移并更新寄存器状态\n",
    "    register.extend(new_bit)\n",
    "    \"\"\"\n",
    "    #print(register)\n",
    "    register = register[8:] + new_bit\n",
    "    #print(\"new_bit:\")\n",
    "    #print(new_bit)\n",
    "    #print(register)\n",
    "end = time.perf_counter()\n",
    "print('Running time: %s Seconds'%(end-start))"
   ]
  },
  {
   "cell_type": "code",
   "execution_count": 21,
   "metadata": {},
   "outputs": [
    {
     "name": "stdout",
     "output_type": "stream",
     "text": [
      "Running time: 47.682154999994964 Seconds\n"
     ]
    }
   ],
   "source": [
    "import time\n",
    "\n",
    "start = time.perf_counter()\n",
    "# 生成一个 256 阶的 01 矩阵\n",
    "# matrix = np.random.randint(0, 2, (256, 256))           # 这里到时候替换成为拓展矩阵  是256阶的\n",
    "last_eight_rows = A33[-8:, :]\n",
    "register = [random.randint(0, 1) for _ in range(256)]   # 寄存器初始状态256位\n",
    "\n",
    "# 将这 8 行分成 32 个 8 阶矩阵，并用 B0...B31 表示这些矩阵\n",
    "B0, B1, B2, B3, B4, B5, B6, B7, B8, \\\n",
    " B9, B10, B11, B12, B13, B14, B15, B16,\\\n",
    " B17, B18, B19, B20, B21, B22, B23, B24,\\\n",
    " B25, B26, B27, B28, B29, B30, B31 = last_eight_rows.reshape((32, 8, 8))\n",
    "\n",
    "\n",
    "W1, W2, W3, W4, W5, W6, W7, W8, \\\n",
    " W9, W10, W11, W12, W13, W14, W15, W16,\\\n",
    " W17, W18, W19, W20, W21, W22, W23, W24,\\\n",
    " W25, W26, W27, W28, W29, W30, W31, W32 = [register[i:i+8] for i in range(0, 256, 8)]\n",
    "\n",
    "B = [B0, B1, B2, B3, B4, B5, B6, B7, B8, B9, B10, B11, B12, B13, B14, B15, B16,\n",
    "     B17, B18, B19, B20, B21, B22, B23, B24,B25, B26, B27, B28, B29, B30, B31]\n",
    "\n",
    "W = [W1, W2, W3, W4, W5, W6, W7, W8, W9, W10, W11, W12, W13, W14, W15, W16,\n",
    "     W17, W18, W19, W20, W21, W22, W23, W24, W25, W26, W27, W28, W29, W30, W31, W32]\n",
    "\n",
    "lfsr = []\n",
    "for i in range(100):\n",
    "    for i in range(32):\n",
    "        lfsr.append((np.dot(B[i], np.array(W[i]).T) % 2))\n",
    "    #print(\"lfsr:\")\n",
    "    #print(lfsr)\n",
    "\n",
    "    new_bit = lfsr[0] ^ lfsr[1] ^ lfsr[2] ^ lfsr[3] ^ lfsr[4] ^ lfsr[5] ^ lfsr[6] ^ lfsr[7] ^\\\n",
    "              lfsr[8] ^ lfsr[9] ^ lfsr[10] ^ lfsr[11] ^ lfsr[12] ^ lfsr[13] ^ lfsr[14] ^ lfsr[15] ^\\\n",
    "              lfsr[16] ^ lfsr[17] ^ lfsr[18] ^ lfsr[19] ^ lfsr[20] ^ lfsr[21] ^ lfsr[22] ^ lfsr[23] ^\\\n",
    "              lfsr[24] ^ lfsr[25] ^ lfsr[26] ^ lfsr[27] ^ lfsr[28] ^ lfsr[29] ^ lfsr[30] ^ lfsr[31]     # 反馈多项式生成\n",
    "    new_bit = [x for x in new_bit]           # 好像这里并不是每一轮都要遍历，可以等到最后一轮再操作\n",
    "    \"\"\"\n",
    "    del register[:8]                         # 状态左移并更新寄存器状态\n",
    "    register.extend(new_bit)\n",
    "    \"\"\"\n",
    "    print(register)\n",
    "    register = register[8:] + new_bit\n",
    "    #print(\"new_bit:\")\n",
    "    #print(new_bit)\n",
    "    #print(register)\n",
    "end = time.perf_counter()\n",
    "print('Running time: %s Seconds'%(end-start))"
   ]
  },
  {
   "cell_type": "code",
   "execution_count": 2,
   "metadata": {
    "scrolled": true
   },
   "outputs": [
    {
     "name": "stdout",
     "output_type": "stream",
     "text": [
      "x^6 + x^4 + x^3 + x + 1\n"
     ]
    },
    {
     "data": {
      "text/plain": [
       "[1, 1, 0, 1, 1, 0, 1]"
      ]
     },
     "execution_count": 2,
     "metadata": {},
     "output_type": "execute_result"
    }
   ],
   "source": [
    "F = GF(2^6)\n",
    "##R.<x> = PolynomialRing(F)\n",
    "alpha = F.primitive_element()\n",
    "poly = alpha.minimal_polynomial()\n",
    "##poly = R(coeffs)\n",
    "##print(coeffs)\n",
    "print(poly)\n",
    "list(poly)"
   ]
  },
  {
   "cell_type": "code",
   "execution_count": 9,
   "metadata": {},
   "outputs": [
    {
     "ename": "ZeroDivisionError",
     "evalue": "inverse of Mod(256, 0) does not exist",
     "output_type": "error",
     "traceback": [
      "\u001b[0;31m---------------------------------------------------------------------------\u001b[0m",
      "\u001b[0;31mZeroDivisionError\u001b[0m                         Traceback (most recent call last)",
      "\u001b[0;32m<ipython-input-9-17c168023627>\u001b[0m in \u001b[0;36m<module>\u001b[0;34m\u001b[0m\n\u001b[1;32m      1\u001b[0m \u001b[0mn\u001b[0m \u001b[0;34m=\u001b[0m \u001b[0mInteger\u001b[0m\u001b[0;34m(\u001b[0m\u001b[0;36m0\u001b[0m\u001b[0;34m)\u001b[0m\u001b[0;34m\u001b[0m\u001b[0;34m\u001b[0m\u001b[0m\n\u001b[0;32m----> 2\u001b[0;31m \u001b[0minverse_mod\u001b[0m\u001b[0;34m(\u001b[0m\u001b[0mInteger\u001b[0m\u001b[0;34m(\u001b[0m\u001b[0;36m2\u001b[0m\u001b[0;34m)\u001b[0m\u001b[0;34m**\u001b[0m\u001b[0mInteger\u001b[0m\u001b[0;34m(\u001b[0m\u001b[0;36m8\u001b[0m\u001b[0;34m)\u001b[0m\u001b[0;34m,\u001b[0m\u001b[0mn\u001b[0m\u001b[0;34m)\u001b[0m\u001b[0;34m\u001b[0m\u001b[0;34m\u001b[0m\u001b[0m\n\u001b[0m",
      "\u001b[0;32m/opt/sagemath-9.3/local/lib/python3.7/site-packages/sage/arith/misc.py\u001b[0m in \u001b[0;36minverse_mod\u001b[0;34m(a, m)\u001b[0m\n\u001b[1;32m   2089\u001b[0m     \"\"\"\n\u001b[1;32m   2090\u001b[0m     \u001b[0;32mtry\u001b[0m\u001b[0;34m:\u001b[0m\u001b[0;34m\u001b[0m\u001b[0;34m\u001b[0m\u001b[0m\n\u001b[0;32m-> 2091\u001b[0;31m         \u001b[0;32mreturn\u001b[0m \u001b[0ma\u001b[0m\u001b[0;34m.\u001b[0m\u001b[0minverse_mod\u001b[0m\u001b[0;34m(\u001b[0m\u001b[0mm\u001b[0m\u001b[0;34m)\u001b[0m\u001b[0;34m\u001b[0m\u001b[0;34m\u001b[0m\u001b[0m\n\u001b[0m\u001b[1;32m   2092\u001b[0m     \u001b[0;32mexcept\u001b[0m \u001b[0mAttributeError\u001b[0m\u001b[0;34m:\u001b[0m\u001b[0;34m\u001b[0m\u001b[0;34m\u001b[0m\u001b[0m\n\u001b[1;32m   2093\u001b[0m         \u001b[0;32mreturn\u001b[0m \u001b[0mInteger\u001b[0m\u001b[0;34m(\u001b[0m\u001b[0ma\u001b[0m\u001b[0;34m)\u001b[0m\u001b[0;34m.\u001b[0m\u001b[0minverse_mod\u001b[0m\u001b[0;34m(\u001b[0m\u001b[0mm\u001b[0m\u001b[0;34m)\u001b[0m\u001b[0;34m\u001b[0m\u001b[0;34m\u001b[0m\u001b[0m\n",
      "\u001b[0;32m/opt/sagemath-9.3/local/lib/python3.7/site-packages/sage/rings/integer.pyx\u001b[0m in \u001b[0;36msage.rings.integer.Integer.inverse_mod (build/cythonized/sage/rings/integer.c:41745)\u001b[0;34m()\u001b[0m\n\u001b[1;32m   6757\u001b[0m         \u001b[0msig_off\u001b[0m\u001b[0;34m(\u001b[0m\u001b[0;34m)\u001b[0m\u001b[0;34m\u001b[0m\u001b[0;34m\u001b[0m\u001b[0m\n\u001b[1;32m   6758\u001b[0m         \u001b[0;32mif\u001b[0m \u001b[0mr\u001b[0m \u001b[0;34m==\u001b[0m \u001b[0;36m0\u001b[0m\u001b[0;34m:\u001b[0m\u001b[0;34m\u001b[0m\u001b[0;34m\u001b[0m\u001b[0m\n\u001b[0;32m-> 6759\u001b[0;31m             \u001b[0;32mraise\u001b[0m \u001b[0mZeroDivisionError\u001b[0m\u001b[0;34m(\u001b[0m\u001b[0;34mf\"inverse of Mod({self}, {m}) does not exist\"\u001b[0m\u001b[0;34m)\u001b[0m\u001b[0;34m\u001b[0m\u001b[0;34m\u001b[0m\u001b[0m\n\u001b[0m\u001b[1;32m   6760\u001b[0m         \u001b[0;32mreturn\u001b[0m \u001b[0mans\u001b[0m\u001b[0;34m\u001b[0m\u001b[0;34m\u001b[0m\u001b[0m\n\u001b[1;32m   6761\u001b[0m \u001b[0;34m\u001b[0m\u001b[0m\n",
      "\u001b[0;31mZeroDivisionError\u001b[0m: inverse of Mod(256, 0) does not exist"
     ]
    }
   ],
   "source": [
    "n = 0\n",
    "inverse_mod(2^8,n)"
   ]
  },
  {
   "cell_type": "code",
   "execution_count": 44,
   "metadata": {},
   "outputs": [
    {
     "name": "stdout",
     "output_type": "stream",
     "text": [
      "代码运行时间: 13.227105379104614秒\n"
     ]
    }
   ],
   "source": [
    "import numpy as np\n",
    "import random\n",
    "import time\n",
    "from collections import deque\n",
    "\n",
    "start_time = time.time()\n",
    "# 生成一个 256 阶的 01 矩阵\n",
    "matrix = np.random.randint(0, 2, (8, 256))           # 这里到时候替换成为拓展矩阵  是256阶的\n",
    "# last_eight_rows = matrix[-8:, :]\n",
    "\n",
    "B = []\n",
    "for i in range(32):\n",
    "    start = i * 8  \n",
    "    end = start + 8  \n",
    "    sub_matrix = matrix[:, start:end]  \n",
    "    B.append(sub_matrix)  # 将子矩阵添加到数据容器中\n",
    "\n",
    "register = [np.array([random.randint(0, 1) for _ in range(8)]) for _ in range(32)]      # 寄存器初始状态256位\n",
    "\n",
    "for i in range(10000):\n",
    "    lfsr = np.array([0, 0, 0, 0, 0, 0, 0, 0])\n",
    "    for j in range(32):\n",
    "        lfsr = lfsr ^ (B[j]*register[j].T) % 2\n",
    "\n",
    "    register = register[1:]     #移位更新\n",
    "    register.append(lfsr)\n",
    "\n",
    "end_time = time.time()\n",
    "execution_time = end_time - start_time\n",
    "print(f\"代码运行时间: {execution_time}秒\")"
   ]
  },
  {
   "cell_type": "code",
   "execution_count": 94,
   "metadata": {
    "scrolled": false
   },
   "outputs": [
    {
     "name": "stdout",
     "output_type": "stream",
     "text": [
      "运行时间：1.006776s\n"
     ]
    }
   ],
   "source": [
    "import numpy as np\n",
    "import time\n",
    "\n",
    "# 产生一个随机的8x256的矩阵\n",
    "matrix = np.random.randint(0, 2, (8, 256))\n",
    "\n",
    "B = []\n",
    "for i in range(32):\n",
    "    start = i * 8\n",
    "    end = start + 8\n",
    "    sub_matrix = matrix[:, start:end]\n",
    "    B.append(sub_matrix)\n",
    "\n",
    "# 产生一个随机的32个长度为8的01数组\n",
    "register = (np.random.rand(32, 8) > 0.5).astype(int)\n",
    "\n",
    "lfsr = np.zeros((8,), dtype=int)\n",
    "start_time = time.time()\n",
    "\n",
    "    \n",
    "for i in range(10000):\n",
    "\n",
    "    for j in range(32):\n",
    "        lfsr = lfsr ^ (B[j] @ register[j])\n",
    "        #print(lfsr)\n",
    "\n",
    "    # 利用Numpy数组视图避免不必要的数据复制\n",
    "    register[:-1] = register[1:]\n",
    "    register[-1:] = lfsr.reshape((1, 8))\n",
    "\n",
    "end_time = time.time()\n",
    "\n",
    "print(f\"运行时间：{end_time - start_time:.6f}s\")"
   ]
  },
  {
   "cell_type": "code",
   "execution_count": 82,
   "metadata": {},
   "outputs": [
    {
     "ename": "AttributeError",
     "evalue": "'sage.matrix.matrix_mod2_dense.Matrix_mod2_dense' object has no attribute 'append'",
     "output_type": "error",
     "traceback": [
      "\u001b[0;31m---------------------------------------------------------------------------\u001b[0m",
      "\u001b[0;31mAttributeError\u001b[0m                            Traceback (most recent call last)",
      "\u001b[0;32m<ipython-input-82-43849151a627>\u001b[0m in \u001b[0;36m<module>\u001b[0;34m\u001b[0m\n\u001b[1;32m      8\u001b[0m     \u001b[0mend_col\u001b[0m \u001b[0;34m=\u001b[0m \u001b[0;34m(\u001b[0m\u001b[0mi\u001b[0m \u001b[0;34m+\u001b[0m \u001b[0mInteger\u001b[0m\u001b[0;34m(\u001b[0m\u001b[0;36m1\u001b[0m\u001b[0;34m)\u001b[0m\u001b[0;34m)\u001b[0m \u001b[0;34m*\u001b[0m \u001b[0mInteger\u001b[0m\u001b[0;34m(\u001b[0m\u001b[0;36m8\u001b[0m\u001b[0;34m)\u001b[0m\u001b[0;34m\u001b[0m\u001b[0;34m\u001b[0m\u001b[0m\n\u001b[1;32m      9\u001b[0m     \u001b[0mB\u001b[0m \u001b[0;34m=\u001b[0m \u001b[0mM\u001b[0m\u001b[0;34m[\u001b[0m\u001b[0;34m:\u001b[0m\u001b[0;34m,\u001b[0m \u001b[0mstart_col\u001b[0m\u001b[0;34m:\u001b[0m\u001b[0mend_col\u001b[0m\u001b[0;34m]\u001b[0m\u001b[0;34m\u001b[0m\u001b[0;34m\u001b[0m\u001b[0m\n\u001b[0;32m---> 10\u001b[0;31m     \u001b[0mB\u001b[0m\u001b[0;34m.\u001b[0m\u001b[0mappend\u001b[0m\u001b[0;34m(\u001b[0m\u001b[0mB\u001b[0m\u001b[0;34m)\u001b[0m\u001b[0;34m\u001b[0m\u001b[0;34m\u001b[0m\u001b[0m\n\u001b[0m\u001b[1;32m     11\u001b[0m \u001b[0;34m\u001b[0m\u001b[0m\n\u001b[1;32m     12\u001b[0m \u001b[0;31m# 打印子块\u001b[0m\u001b[0;34m\u001b[0m\u001b[0;34m\u001b[0m\u001b[0;34m\u001b[0m\u001b[0m\n",
      "\u001b[0;32m/opt/sagemath-9.3/local/lib/python3.7/site-packages/sage/structure/element.pyx\u001b[0m in \u001b[0;36msage.structure.element.Element.__getattr__ (build/cythonized/sage/structure/element.c:4709)\u001b[0;34m()\u001b[0m\n\u001b[1;32m    491\u001b[0m             \u001b[0mAttributeError\u001b[0m\u001b[0;34m:\u001b[0m \u001b[0;34m'LeftZeroSemigroup_with_category.element_class'\u001b[0m \u001b[0mobject\u001b[0m \u001b[0mhas\u001b[0m \u001b[0mno\u001b[0m \u001b[0mattribute\u001b[0m \u001b[0;34m'blah_blah'\u001b[0m\u001b[0;34m\u001b[0m\u001b[0;34m\u001b[0m\u001b[0m\n\u001b[1;32m    492\u001b[0m         \"\"\"\n\u001b[0;32m--> 493\u001b[0;31m         \u001b[0;32mreturn\u001b[0m \u001b[0mself\u001b[0m\u001b[0;34m.\u001b[0m\u001b[0mgetattr_from_category\u001b[0m\u001b[0;34m(\u001b[0m\u001b[0mname\u001b[0m\u001b[0;34m)\u001b[0m\u001b[0;34m\u001b[0m\u001b[0;34m\u001b[0m\u001b[0m\n\u001b[0m\u001b[1;32m    494\u001b[0m \u001b[0;34m\u001b[0m\u001b[0m\n\u001b[1;32m    495\u001b[0m     \u001b[0mcdef\u001b[0m \u001b[0mgetattr_from_category\u001b[0m\u001b[0;34m(\u001b[0m\u001b[0mself\u001b[0m\u001b[0;34m,\u001b[0m \u001b[0mname\u001b[0m\u001b[0;34m)\u001b[0m\u001b[0;34m:\u001b[0m\u001b[0;34m\u001b[0m\u001b[0;34m\u001b[0m\u001b[0m\n",
      "\u001b[0;32m/opt/sagemath-9.3/local/lib/python3.7/site-packages/sage/structure/element.pyx\u001b[0m in \u001b[0;36msage.structure.element.Element.getattr_from_category (build/cythonized/sage/structure/element.c:4821)\u001b[0;34m()\u001b[0m\n\u001b[1;32m    504\u001b[0m         \u001b[0;32melse\u001b[0m\u001b[0;34m:\u001b[0m\u001b[0;34m\u001b[0m\u001b[0;34m\u001b[0m\u001b[0m\n\u001b[1;32m    505\u001b[0m             \u001b[0mcls\u001b[0m \u001b[0;34m=\u001b[0m \u001b[0mP\u001b[0m\u001b[0;34m.\u001b[0m\u001b[0m_abstract_element_class\u001b[0m\u001b[0;34m\u001b[0m\u001b[0;34m\u001b[0m\u001b[0m\n\u001b[0;32m--> 506\u001b[0;31m         \u001b[0;32mreturn\u001b[0m \u001b[0mgetattr_from_other_class\u001b[0m\u001b[0;34m(\u001b[0m\u001b[0mself\u001b[0m\u001b[0;34m,\u001b[0m \u001b[0mcls\u001b[0m\u001b[0;34m,\u001b[0m \u001b[0mname\u001b[0m\u001b[0;34m)\u001b[0m\u001b[0;34m\u001b[0m\u001b[0;34m\u001b[0m\u001b[0m\n\u001b[0m\u001b[1;32m    507\u001b[0m \u001b[0;34m\u001b[0m\u001b[0m\n\u001b[1;32m    508\u001b[0m     \u001b[0;32mdef\u001b[0m \u001b[0m__dir__\u001b[0m\u001b[0;34m(\u001b[0m\u001b[0mself\u001b[0m\u001b[0;34m)\u001b[0m\u001b[0;34m:\u001b[0m\u001b[0;34m\u001b[0m\u001b[0;34m\u001b[0m\u001b[0m\n",
      "\u001b[0;32m/opt/sagemath-9.3/local/lib/python3.7/site-packages/sage/cpython/getattr.pyx\u001b[0m in \u001b[0;36msage.cpython.getattr.getattr_from_other_class (build/cythonized/sage/cpython/getattr.c:2618)\u001b[0;34m()\u001b[0m\n\u001b[1;32m    370\u001b[0m         \u001b[0mdummy_error_message\u001b[0m\u001b[0;34m.\u001b[0m\u001b[0mcls\u001b[0m \u001b[0;34m=\u001b[0m \u001b[0mtype\u001b[0m\u001b[0;34m(\u001b[0m\u001b[0mself\u001b[0m\u001b[0;34m)\u001b[0m\u001b[0;34m\u001b[0m\u001b[0;34m\u001b[0m\u001b[0m\n\u001b[1;32m    371\u001b[0m         \u001b[0mdummy_error_message\u001b[0m\u001b[0;34m.\u001b[0m\u001b[0mname\u001b[0m \u001b[0;34m=\u001b[0m \u001b[0mname\u001b[0m\u001b[0;34m\u001b[0m\u001b[0;34m\u001b[0m\u001b[0m\n\u001b[0;32m--> 372\u001b[0;31m         \u001b[0;32mraise\u001b[0m \u001b[0mAttributeError\u001b[0m\u001b[0;34m(\u001b[0m\u001b[0mdummy_error_message\u001b[0m\u001b[0;34m)\u001b[0m\u001b[0;34m\u001b[0m\u001b[0;34m\u001b[0m\u001b[0m\n\u001b[0m\u001b[1;32m    373\u001b[0m     \u001b[0mattribute\u001b[0m \u001b[0;34m=\u001b[0m \u001b[0;34m<\u001b[0m\u001b[0mobject\u001b[0m\u001b[0;34m>\u001b[0m\u001b[0mattr\u001b[0m\u001b[0;34m\u001b[0m\u001b[0;34m\u001b[0m\u001b[0m\n\u001b[1;32m    374\u001b[0m     \u001b[0;31m# Check for a descriptor (__get__ in Python)\u001b[0m\u001b[0;34m\u001b[0m\u001b[0;34m\u001b[0m\u001b[0;34m\u001b[0m\u001b[0m\n",
      "\u001b[0;31mAttributeError\u001b[0m: 'sage.matrix.matrix_mod2_dense.Matrix_mod2_dense' object has no attribute 'append'"
     ]
    }
   ],
   "source": [
    "# 定义原始矩阵\n",
    "M = Matrix(GF(2), 8, 256)  # 根据您的实际数据进行定义\n",
    "\n",
    "# 将矩阵分成32个8x8的子块\n",
    "sub_blocks = []\n",
    "for i in range(32):\n",
    "    start_col = i * 8\n",
    "    end_col = (i + 1) * 8\n",
    "    sub_block = M[:, start_col:end_col]\n",
    "    sub_blocks.append(sub_block)\n",
    "\n",
    "# 打印子块\n",
    "for i, sub_block in enumerate(sub_blocks):\n",
    "    print(f\"Sub-block {i+1}:\")\n",
    "    print(sub_block)\n",
    "    print()\n"
   ]
  },
  {
   "cell_type": "code",
   "execution_count": null,
   "metadata": {},
   "outputs": [],
   "source": []
  }
 ],
 "metadata": {
  "kernelspec": {
   "display_name": "SageMath 9.3",
   "language": "sage",
   "name": "sagemath"
  },
  "language_info": {
   "codemirror_mode": {
    "name": "ipython",
    "version": 3
   },
   "file_extension": ".py",
   "mimetype": "text/x-python",
   "name": "python",
   "nbconvert_exporter": "python",
   "pygments_lexer": "ipython3",
   "version": "3.7.10"
  }
 },
 "nbformat": 4,
 "nbformat_minor": 4
}
